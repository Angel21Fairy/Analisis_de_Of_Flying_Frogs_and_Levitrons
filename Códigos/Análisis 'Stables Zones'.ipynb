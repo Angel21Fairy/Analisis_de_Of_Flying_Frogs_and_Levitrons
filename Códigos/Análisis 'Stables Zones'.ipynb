{
 "cells": [
  {
   "cell_type": "markdown",
   "id": "50f21817",
   "metadata": {},
   "source": [
    "# Análisis Gráfico"
   ]
  },
  {
   "cell_type": "code",
   "execution_count": 2,
   "id": "a0c652d9",
   "metadata": {},
   "outputs": [],
   "source": [
    "import numpy as np\n",
    "import matplotlib.pyplot as plt\n",
    "import ipywidgets as widgets"
   ]
  },
  {
   "cell_type": "markdown",
   "id": "89ab7ead",
   "metadata": {},
   "source": [
    "## Solenoides delgados"
   ]
  },
  {
   "cell_type": "code",
   "execution_count": 169,
   "id": "6bce1487",
   "metadata": {},
   "outputs": [],
   "source": [
    "# Se define la función que permita graficar el comportamiento del Campo Magnético y las Condiciones de estabilidad\n",
    "\n",
    "def f(a):\n",
    "    x = np.linspace(0.3, 0.6, 1000)\n",
    "    \n",
    "    \n",
    "    B = 0.5 * np.sqrt(1 + a ** 2) * ((1 - 2 * x) / np.sqrt((1 - 2 * x) ** 2 + a ** 2) + (1 + 2 * x) / np.sqrt((1 + 2 * x) ** 2 + a ** 2))\n",
    "    B_prime = np.gradient(B, x)\n",
    "    B_double_prime = np.gradient(B_prime, x)\n",
    "    D1 = B_prime ** 2 + B * B_double_prime\n",
    "    D2 = B_prime ** 2 - 2 * B * B_double_prime\n",
    "\n",
    "    # Hallar la zona estable\n",
    "    intervals = []\n",
    "    for i in range(len(x) - 1):\n",
    "        if D1[i] > 0 and D2[i] > 0:\n",
    "            intervals.append(x[i])\n",
    "\n",
    "    if len(intervals) > 0:\n",
    "        print(\"La zona estable es:\")\n",
    "        print(f\"[{intervals[0]:.5f}, {intervals[-1]:.5f}]\")\n",
    "    else:\n",
    "        print(\"No se presenta zonas estables.\")\n",
    "        \n",
    "            \n",
    "    # Crear las figuras\n",
    "    fig = plt.figure(figsize=(10, 4))\n",
    "    fig.clf()\n",
    "    ax = fig.subplots(nrows=1, ncols=2)\n",
    "    fig.subplots_adjust(wspace=0.5) \n",
    "    \n",
    "    \n",
    "    # Graficar el Comportamiento del Campo Magnético\n",
    "    ax[0].plot(x, B, color='slategray',label='B')\n",
    "    ax[0].set_xlabel(r'$\\zeta$')\n",
    "    ax[0].set_ylabel(r'$B(\\zeta)$')\n",
    "    ax[0].set_title(r'Campo Magnético')\n",
    "    \n",
    "    # Graficar las condiciones de estabilidad\n",
    "    \n",
    "    ax[1].plot(x, D1, color='teal', ls='--')\n",
    "    ax[1].text(x[350], D1[350], r'$D_1(\\zeta)$', fontsize=12)\n",
    "    \n",
    "    ax[1].plot(x, D2, color='darkseagreen')\n",
    "    ax[1].text(x[350], D2[350], r'$D_2(\\zeta)$', fontsize=12)\n",
    "    \n",
    "    ax[1].grid(True)\n",
    "    ax[1].set_xlabel(r'$\\zeta$')\n",
    "    ax[1].set_ylabel(r'$D_n(\\zeta)$')\n",
    "    ax[1].set_title('Zonas Estables')\n"
   ]
  },
  {
   "cell_type": "code",
   "execution_count": 170,
   "id": "5078063c",
   "metadata": {},
   "outputs": [
    {
     "data": {
      "application/vnd.jupyter.widget-view+json": {
       "model_id": "e2de1825589d4d58b53eab14524b4cd4",
       "version_major": 2,
       "version_minor": 0
      },
      "text/plain": [
       "interactive(children=(FloatSlider(value=0.1, description='a', max=0.1, min=0.001, step=0.001), Output()), _dom…"
      ]
     },
     "metadata": {},
     "output_type": "display_data"
    },
    {
     "data": {
      "text/plain": [
       "<function __main__.f(a)>"
      ]
     },
     "execution_count": 170,
     "metadata": {},
     "output_type": "execute_result"
    }
   ],
   "source": [
    "widgets.interact(f, a=widgets.FloatSlider(min=0.001, max=0.1, step=0.001, value=1))"
   ]
  },
  {
   "cell_type": "markdown",
   "id": "91ee724b",
   "metadata": {},
   "source": [
    "## Solenoides Anchos"
   ]
  },
  {
   "cell_type": "code",
   "execution_count": 183,
   "id": "9ec94d92",
   "metadata": {},
   "outputs": [],
   "source": [
    "# Se define la función que permita graficar el comportamiento del Campo Magnético y las Condiciones de estabilidad\n",
    "\n",
    "def g(a):\n",
    "    \n",
    "    #Con el parámetro x se puede cambiar el eje \\zeta\n",
    "    x = np.linspace(0, 40, 1000)\n",
    "    \n",
    "    B = 0.5 * np.sqrt(1 + a ** 2) * ((1 - 2 * x) / np.sqrt((1 - 2 * x) ** 2 + a ** 2) + (1 + 2 * x) / np.sqrt((1 + 2 * x) ** 2 + a ** 2))\n",
    "    B_prime = np.gradient(B, x)\n",
    "    B_double_prime = np.gradient(B_prime, x)\n",
    "    D1 = B_prime ** 2 + B * B_double_prime\n",
    "    D2 = B_prime ** 2 - 2 * B * B_double_prime\n",
    "\n",
    "    # Hallar la zona estable\n",
    "    intervals = []\n",
    "    for i in range(len(x) - 1):\n",
    "        if D1[i] > 0 and D2[i] > 0:\n",
    "            intervals.append(x[i])\n",
    "\n",
    "    if len(intervals) > 0:\n",
    "        print(\"La zona estable es:\")\n",
    "        print(f\"[{intervals[0]:.5f}, {intervals[-1]:.5f}]\")\n",
    "    else:\n",
    "        print(\"No se presenta zonas estables.\")\n",
    "        \n",
    "            \n",
    "    # Crear las figuras\n",
    "    fig = plt.figure(figsize=(10, 4))\n",
    "    fig.clf()\n",
    "    ax = fig.subplots(nrows=1, ncols=2)\n",
    "    fig.subplots_adjust(wspace=0.5) \n",
    "    \n",
    "    \n",
    "    # Graficar el Comportamiento del Campo Magnético\n",
    "    ax[0].plot(x, B, color='slategray',label='B')\n",
    "    ax[0].set_xlabel(r'$\\zeta$')\n",
    "    ax[0].set_ylabel(r'$B(\\zeta)$')\n",
    "    ax[0].set_title(r'Campo Magnético')\n",
    "    \n",
    "    # Graficar las condiciones de estabilidad\n",
    "    \n",
    "    ax[1].plot(x, D1, color='teal', ls='--')\n",
    "    ax[1].text(intervals[0]-5, D1[200], r'$D_1(\\zeta)$', fontsize=12)\n",
    "    \n",
    "    ax[1].plot(x, D2, color='darkseagreen')\n",
    "    ax[1].text(intervals[0]-5, D2[200], r'$D_2(\\zeta)$', fontsize=12)\n",
    "    \n",
    "    ax[1].grid(True)\n",
    "    ax[1].set_xlabel(r'$\\zeta$')\n",
    "    ax[1].set_ylabel(r'$D_n(\\zeta)$')\n",
    "    ax[1].set_title('Zonas Estables')\n"
   ]
  },
  {
   "cell_type": "code",
   "execution_count": 184,
   "id": "619d831c",
   "metadata": {},
   "outputs": [
    {
     "data": {
      "application/vnd.jupyter.widget-view+json": {
       "model_id": "04d3036083c14a55aa9b5a323842c148",
       "version_major": 2,
       "version_minor": 0
      },
      "text/plain": [
       "interactive(children=(FloatSlider(value=50.0, description='a', min=50.0, step=1.0), Output()), _dom_classes=('…"
      ]
     },
     "metadata": {},
     "output_type": "display_data"
    },
    {
     "data": {
      "text/plain": [
       "<function __main__.g(a)>"
      ]
     },
     "execution_count": 184,
     "metadata": {},
     "output_type": "execute_result"
    }
   ],
   "source": [
    "widgets.interact(g, a=widgets.FloatSlider(min=50, max=100, step=1, value=1))"
   ]
  }
 ],
 "metadata": {
  "kernelspec": {
   "display_name": "Python 3 (ipykernel)",
   "language": "python",
   "name": "python3"
  },
  "language_info": {
   "codemirror_mode": {
    "name": "ipython",
    "version": 3
   },
   "file_extension": ".py",
   "mimetype": "text/x-python",
   "name": "python",
   "nbconvert_exporter": "python",
   "pygments_lexer": "ipython3",
   "version": "3.9.12"
  }
 },
 "nbformat": 4,
 "nbformat_minor": 5
}
